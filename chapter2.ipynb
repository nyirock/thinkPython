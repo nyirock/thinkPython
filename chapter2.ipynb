{
 "cells": [
  {
   "cell_type": "markdown",
   "metadata": {},
   "source": [
    "## Turtle Module"
   ]
  },
  {
   "cell_type": "code",
   "execution_count": 2,
   "metadata": {
    "collapsed": true
   },
   "outputs": [],
   "source": [
    "import turtle\n",
    "bob = turtle.Turtle()"
   ]
  },
  {
   "cell_type": "markdown",
   "metadata": {},
   "source": [
    "### polygon.py"
   ]
  },
  {
   "cell_type": "code",
   "execution_count": 1,
   "metadata": {
    "collapsed": false
   },
   "outputs": [
    {
     "name": "stdout",
     "output_type": "stream",
     "text": [
      "<turtle.Turtle object at 0x00000000029C2BA8>\n"
     ]
    }
   ],
   "source": [
    "import turtle\n",
    "bob=turtle.Turtle()\n",
    "print(bob)\n",
    "turtle.mainloop()"
   ]
  },
  {
   "cell_type": "code",
   "execution_count": 1,
   "metadata": {
    "collapsed": false
   },
   "outputs": [
    {
     "name": "stdout",
     "output_type": "stream",
     "text": [
      "<turtle.Turtle object at 0x00000000029D45C0>\n"
     ]
    }
   ],
   "source": [
    "import turtle\n",
    "import time\n",
    "bob=turtle.Turtle()\n",
    "print(bob)\n",
    "time.sleep(2)\n",
    "bob.fd(100)\n",
    "time.sleep(2)\n",
    "bob.lt(90)\n",
    "time.sleep(2)\n",
    "bob.fd(100)\n",
    "time.sleep(2)\n",
    "bob.lt(90)\n",
    "time.sleep(2)\n",
    "bob.fd(100)\n",
    "time.sleep(2)\n",
    "bob.lt(90)\n",
    "time.sleep(2)\n",
    "bob.fd(100)\n",
    "\n",
    "turtle.mainloop()"
   ]
  },
  {
   "cell_type": "code",
   "execution_count": 1,
   "metadata": {
    "collapsed": false
   },
   "outputs": [],
   "source": [
    "import turtle\n",
    "import time\n",
    "b=turtle.Turtle()\n",
    "for i in range(4):\n",
    "    time.sleep(2)\n",
    "    b.fd(100)\n",
    "    b.lt(90)\n",
    "turtle.mainloop()"
   ]
  },
  {
   "cell_type": "code",
   "execution_count": 1,
   "metadata": {
    "collapsed": false
   },
   "outputs": [],
   "source": [
    "import turtle\n",
    "import time\n",
    "b=turtle.Turtle()\n",
    "for i in range(360):\n",
    "    time.sleep(1)\n",
    "    b.fd(1)\n",
    "    b.lt(1)\n",
    "turtle.mainloop()"
   ]
  },
  {
   "cell_type": "code",
   "execution_count": null,
   "metadata": {
    "collapsed": true
   },
   "outputs": [],
   "source": []
  }
 ],
 "metadata": {
  "anaconda-cloud": {},
  "kernelspec": {
   "display_name": "Python [conda root]",
   "language": "python",
   "name": "conda-root-py"
  },
  "language_info": {
   "codemirror_mode": {
    "name": "ipython",
    "version": 2
   },
   "file_extension": ".py",
   "mimetype": "text/x-python",
   "name": "python",
   "nbconvert_exporter": "python",
   "pygments_lexer": "ipython2",
   "version": "2.7.12"
  }
 },
 "nbformat": 4,
 "nbformat_minor": 1
}
